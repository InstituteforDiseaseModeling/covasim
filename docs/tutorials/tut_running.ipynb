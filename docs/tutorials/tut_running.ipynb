{
 "cells": [
  {
   "cell_type": "markdown",
   "metadata": {},
   "source": [
    "# T3 - Running scenarios\n",
    "\n",
    "While running individual sims can be interesting for simple explorations, at some point it will almost always be necessary to run a large number of simulations simultaneously -- to explore different scenarios, to perform calibration, or simply to get uncertainty bounds on a single projection. This tutorial explains how to do that."
   ]
  },
  {
   "cell_type": "markdown",
   "metadata": {},
   "source": [
    "<div class=\"alert alert-info\">\n",
    "    \n",
    "Click [here](https://mybinder.org/v2/gh/institutefordiseasemodeling/covasim/HEAD?urlpath=lab%2Ftree%2Fdocs%2Ftutorials%2Ftut_running.ipynb) to open an interactive version of this notebook.\n",
    "    \n",
    "</div>"
   ]
  },
  {
   "cell_type": "markdown",
   "metadata": {},
   "source": [
    "## Running with MultiSims\n",
    "\n",
    "The most common way to run multiple simulations is with the *MultiSim* object. As the name suggests, this is a relatively simple container for a number of sims. However, it contains powerful methods for plotting, statistics, and running all the sims in parallel.\n",
    "\n",
    "### Running one sim with uncertainty\n",
    "\n",
    "Making and running a multisim based on a single sim is pretty easy:"
   ]
  },
  {
   "cell_type": "code",
   "execution_count": null,
   "metadata": {},
   "outputs": [],
   "source": [
    "import covasim as cv\n",
    "cv.options(jupyter=True, verbose=0)\n",
    "\n",
    "sim = cv.Sim()\n",
    "msim = cv.MultiSim(sim)\n",
    "msim.run(n_runs=5)\n",
    "msim.plot()"
   ]
  },
  {
   "cell_type": "markdown",
   "metadata": {},
   "source": [
    "If you run a multisim with a single sim input as above, it will change the random seed for each sim, which is what leads to the variability you see.\n",
    "\n",
    "By default, the multisim simply plots each simulation. These simulations are stored in the `sims` attribute, which is just a simple list of sims:"
   ]
  },
  {
   "cell_type": "code",
   "execution_count": null,
   "metadata": {},
   "outputs": [],
   "source": [
    "for sim in msim.sims:\n",
    "    sim.brief()"
   ]
  },
  {
   "cell_type": "markdown",
   "metadata": {},
   "source": [
    "However, often (especially when you run the same parameters with different random seeds), you don't care about the individual sims, you want to see the *statistics* for the sims. You can calculate either the mean or the median of the results across all the sims as follows:"
   ]
  },
  {
   "cell_type": "code",
   "execution_count": null,
   "metadata": {},
   "outputs": [],
   "source": [
    "msim.mean()\n",
    "msim.plot_result('new_infections')"
   ]
  },
  {
   "cell_type": "code",
   "execution_count": null,
   "metadata": {},
   "outputs": [],
   "source": [
    "msim.median()\n",
    "msim.plot_result('new_infections')"
   ]
  },
  {
   "cell_type": "markdown",
   "metadata": {},
   "source": [
    "You can see these are similar, but slightly different. You can also treat each of the individual sims as part of a larger single sim, and \"combine\" the results into one sim:"
   ]
  },
  {
   "cell_type": "code",
   "execution_count": null,
   "metadata": {},
   "outputs": [],
   "source": [
    "msim.combine()\n",
    "msim.plot_result('new_infections')"
   ]
  },
  {
   "cell_type": "markdown",
   "metadata": {},
   "source": [
    "Note how now there is no uncertainty and the total number of infections is 5x higher than in the previous plots, since we just added 5 different sims together.\n",
    "\n",
    "Each of these operations modifies the `msim.base_sim` object, and does not affect the actual list of stored sims, which is why you can go back and forth between them.\n",
    "\n",
    "### Running different sims\n",
    "\n",
    "Often you don't want to run the same sim with different seeds, but instead want to run a set of different sims. That's also very easy -- for example, here's how you would do a sweep across beta values:"
   ]
  },
  {
   "cell_type": "code",
   "execution_count": null,
   "metadata": {},
   "outputs": [],
   "source": [
    "import numpy as np\n",
    "\n",
    "betas = np.linspace(0.010, 0.020, 5) # Sweep beta from 0.01 to 0.02 with 5 values\n",
    "sims = []\n",
    "for beta in betas:\n",
    "    sim = cv.Sim(beta=beta, label=f'Beta = {beta}')\n",
    "    sims.append(sim)\n",
    "msim = cv.MultiSim(sims)\n",
    "msim.run()\n",
    "msim.plot_result('cum_infections')"
   ]
  },
  {
   "cell_type": "markdown",
   "metadata": {},
   "source": [
    "As you would expect, higher beta values have more infections.\n",
    "\n",
    "Finally, note that you can use multisims to do very compact scenario explorations -- here we are using the command `cv.parallel()`, which is an alias for `cv.MultiSim().run()`:"
   ]
  },
  {
   "cell_type": "code",
   "execution_count": null,
   "metadata": {},
   "outputs": [],
   "source": [
    "def protect_elderly(sim):\n",
    "    if sim.t == sim.day('2021-04-01'):\n",
    "        elderly = sim.people.age>70\n",
    "        sim.people.rel_sus[elderly] = 0.0\n",
    "\n",
    "pars = {'start_day':'2021-03-01', 'n_days':120}\n",
    "s1 = cv.Sim(pars, label='Default')\n",
    "s2 = cv.Sim(pars, label='Protect the elderly', interventions=protect_elderly)\n",
    "cv.parallel(s1, s2).plot(['cum_deaths', 'cum_infections'])"
   ]
  },
  {
   "cell_type": "markdown",
   "metadata": {},
   "source": [
    "<div class=\"alert alert-warning\">\n",
    "\n",
    "**Gotcha:** Because `multiprocess` pickles the sims when running them, `sims[0]` (before being run by the multisim) and `msim.sims[0]` are **not** the same object. After calling `msim.run()`, always use sims from the multisim object, not from before. In contrast, if you *don't* run the multisim (e.g. if you make a multisim from already-run sims), then `sims[0]` and `msim.sims[0]` are indeed exactly the same object.\n",
    "\n",
    "</div>"
   ]
  },
  {
   "cell_type": "markdown",
   "metadata": {},
   "source": [
    "### Advanced usage\n",
    "\n",
    "Finally, you can also merge or split different multisims together. Here's an example that's similar to before, except it shows how to run a multisim of different seeds for the same beta value, but then merge multisims for different beta values together into one multisim to rule them all:"
   ]
  },
  {
   "cell_type": "code",
   "execution_count": null,
   "metadata": {},
   "outputs": [],
   "source": [
    "n_sims = 3\n",
    "betas = [0.012, 0.016, 0.018]\n",
    "\n",
    "msims = []\n",
    "for beta in betas:\n",
    "    sims = []\n",
    "    for s in range(n_sims):\n",
    "        sim = cv.Sim(pop_size=10e3, beta=beta, rand_seed=s, label=f'Beta = {beta}')\n",
    "        sims.append(sim)\n",
    "    msim = cv.MultiSim(sims)\n",
    "    msim.run()\n",
    "    msim.mean()\n",
    "    msims.append(msim)\n",
    "\n",
    "merged = cv.MultiSim.merge(msims, base=True)\n",
    "merged.plot(color_by_sim=True)"
   ]
  },
  {
   "cell_type": "markdown",
   "metadata": {},
   "source": [
    "As you can see, running this way lets you run not just different values, but run different values with uncertainty. Which brings us to..."
   ]
  },
  {
   "cell_type": "markdown",
   "metadata": {},
   "source": [
    "## Running with Scenarios\n",
    "\n",
    "Most of the time, you'll want to run with multisims since they give you the most flexibility. However, in certain cases, Scenario objects let you achieve the same thing more simply. Unlike MultiSims, which are completely agnostic about what sims you include, scenarios always start from the same base sim. They then modify the parameters as you specify, and finally add uncertainty if desired. For example, this shows how you'd use scenarios to run the example similar to the one above."
   ]
  },
  {
   "cell_type": "code",
   "execution_count": null,
   "metadata": {},
   "outputs": [],
   "source": [
    "# Set base parameters -- these will be shared across all scenarios\n",
    "basepars = {'pop_size':10e3} \n",
    "\n",
    "# Configure the settings for each scenario\n",
    "scenarios = {'baseline': {\n",
    "              'name':'Baseline',\n",
    "              'pars': {}\n",
    "              },\n",
    "            'high_beta': {\n",
    "              'name':'High beta (0.020)',\n",
    "              'pars': {\n",
    "                  'beta': 0.020,\n",
    "                  }\n",
    "              },\n",
    "            'low_beta': {\n",
    "              'name':'Low beta (0.012)',\n",
    "              'pars': {\n",
    "                  'beta': 0.012,\n",
    "                  }\n",
    "              },\n",
    "             }\n",
    "\n",
    "# Run and plot the scenarios\n",
    "scens = cv.Scenarios(basepars=basepars, scenarios=scenarios)\n",
    "scens.run()\n",
    "scens.plot()"
   ]
  }
 ],
 "metadata": {
  "kernelspec": {
   "display_name": "Python 3 (ipykernel)",
   "language": "python",
   "name": "python3"
  },
  "language_info": {
   "codemirror_mode": {
    "name": "ipython",
    "version": 3
   },
   "file_extension": ".py",
   "mimetype": "text/x-python",
   "name": "python",
   "nbconvert_exporter": "python",
   "pygments_lexer": "ipython3",
   "version": "3.9.7"
  },
  "pycharm": {
   "stem_cell": {
    "cell_type": "raw",
    "metadata": {
     "collapsed": false
    },
    "source": []
   }
  },
  "toc": {
   "base_numbering": 1,
   "nav_menu": {},
   "number_sections": true,
   "sideBar": true,
   "skip_h1_title": false,
   "title_cell": "Table of Contents",
   "title_sidebar": "Contents",
   "toc_cell": false,
   "toc_position": {},
   "toc_section_display": true,
   "toc_window_display": false
  }
 },
 "nbformat": 4,
 "nbformat_minor": 4
}
