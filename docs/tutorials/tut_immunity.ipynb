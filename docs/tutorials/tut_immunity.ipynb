{
 "cells": [
  {
   "cell_type": "markdown",
   "metadata": {},
   "source": [
    "# T8 - Immunity methods\n",
    "\n",
    "This tutorial covers several of the features new to Covasim 3.0, including waning immunity, multi-variant modelling, and advanced vaccination methods.\n",
    "\n",
    "## Using waning immunity\n",
    "\n",
    "By default, infection is assumed to confer lifelong perfect immunity, meaning that people who have been infected cannot be infected again.\n",
    "However, this can be changed by setting `use_waning=True` when initializing a simulation.\n",
    "When `use_waning` is set to True, agents in the simulation are assigned an initial level of neutralizing antibodies after recovering from an infection, drawn from a distribution defined in the parameter dictionary.\n",
    "This level decays over time, leading to declines in the efficacy of protection against infection, symptoms, and severe symptoms.\n",
    "The following example creates simulations without waning immunity (the default), and compares it to simulations with different speeds of immunity waning."
   ]
  },
  {
   "cell_type": "code",
   "execution_count": null,
   "metadata": {},
   "outputs": [],
   "source": [
    "import numpy as np\n",
    "import sciris as sc\n",
    "import covasim as cv\n",
    "cv.options.set(dpi=100, show=False, close=True, verbose=0) # Standard options for Jupyter notebook\n",
    "\n",
    "# Create sims with and without waning immunity\n",
    "sim_nowaning = cv.Sim(n_days=120, label='No waning immunity')\n",
    "sim_waning = cv.Sim(use_waning=True, n_days=120, label='Waning immunity')\n",
    "\n",
    "# Now create an alternative sim with faster decay for neutralizing antibodies\n",
    "sim_fasterwaning = cv.Sim(\n",
    "    label='Faster waning immunity',\n",
    "    n_days=120,\n",
    "    use_waning=True,\n",
    "    nab_decay=dict(form='nab_decay', decay_rate1=np.log(2)/30, decay_time1=250, decay_rate2=0.001)\n",
    ")\n",
    "\n",
    "\n",
    "# Create a multisim, run, and plot results\n",
    "msim = cv.MultiSim([sim_nowaning, sim_waning, sim_fasterwaning])\n",
    "msim.run()\n",
    "msim.plot()"
   ]
  },
  {
   "cell_type": "markdown",
   "metadata": {},
   "source": [
    "## Multi-variant modeling\n",
    "\n",
    "The next examples show how to introduce new variants into a simulation.\n",
    "These can either be known variants of concern, or custom new variants.\n",
    "New variants may have differing levels of transmissibility, symptomaticity, severity, and mortality.\n",
    "When introducing new variants, `use_waning` must be set to `True`.\n",
    "The model includes known information about the levels of cross-immunity between different variants.\n",
    "Cross-immunity can also be manually adjusted, as illustrated in the example below."
   ]
  },
  {
   "cell_type": "code",
   "execution_count": null,
   "metadata": {},
   "outputs": [],
   "source": [
    "# Define three new variants: B117, B1351, and a custom-defined variant\n",
    "b117    = cv.variant('b117', days=10, n_imports=10)\n",
    "b1351   = cv.variant('b1351', days=10, n_imports=10)\n",
    "custom  = cv.variant(label='3x more transmissible', variant={'rel_beta': 3.0}, days=20, n_imports=10)\n",
    "\n",
    "# Create the simulation\n",
    "sim = cv.Sim(use_waning=True, variants=[b117, b1351, custom])\n",
    "\n",
    "# Run and plot\n",
    "sim.run()\n",
    "sim.plot('variant')"
   ]
  },
  {
   "cell_type": "markdown",
   "metadata": {},
   "source": [
    "## Advanced vaccination methods\n",
    "\n",
    "The intervention `cv.vaccinate()` allows you to introduce a selection of known vaccines into the model, each of which is pre-populated with known parameters on their efficacy against different variants, their durations of protection, and the levels of protection that they afford against infection and disease progression.\n",
    "When using `cv.vaccinate()`, `use_waning` must be set to `True`.\n",
    "The following example illustrates how to use the `cv.vaccinate()` intervention."
   ]
  },
  {
   "cell_type": "code",
   "execution_count": null,
   "metadata": {},
   "outputs": [],
   "source": [
    "# Create some base parameters\n",
    "pars = {\n",
    "    'beta': 0.015,\n",
    "    'n_days': 120,\n",
    "}\n",
    "\n",
    "# Define a Pfizer vaccine\n",
    "pfizer = cv.vaccinate(vaccine='pfizer', days=20)\n",
    "sim = cv.Sim(\n",
    "    use_waning=True,\n",
    "    pars=pars,\n",
    "    interventions=pfizer\n",
    ")\n",
    "sim.run()\n",
    "sim.plot()\n"
   ]
  }
 ],
 "metadata": {
  "kernelspec": {
   "display_name": "Python 3",
   "language": "python",
   "name": "python3"
  },
  "language_info": {
   "codemirror_mode": {
    "name": "ipython",
    "version": 3
   },
   "file_extension": ".py",
   "mimetype": "text/x-python",
   "name": "python",
   "nbconvert_exporter": "python",
   "pygments_lexer": "ipython3",
   "version": "3.8.8"
  },
  "toc": {
   "base_numbering": 1,
   "nav_menu": {},
   "number_sections": true,
   "sideBar": true,
   "skip_h1_title": false,
   "title_cell": "Table of Contents",
   "title_sidebar": "Contents",
   "toc_cell": false,
   "toc_position": {},
   "toc_section_display": true,
   "toc_window_display": false
  }
 },
 "nbformat": 4,
 "nbformat_minor": 4
}
