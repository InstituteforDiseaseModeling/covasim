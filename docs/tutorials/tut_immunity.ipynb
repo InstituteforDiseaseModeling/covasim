{
 "cells": [
  {
   "cell_type": "markdown",
   "metadata": {},
   "source": [
    "# T8 - Immunity methods\n",
    "\n",
    "This tutorial covers several of the features new to Covasim 3.0, including waning immunity, multi-variant modelling, and advanced vaccination methods.\n",
    "\n",
    "## Using waning immunity\n",
    "\n",
    "By default, infection is assumed to confer lifelong perfect immunity, meaning that people who have been infected cannot be infected again.\n",
    "However, this can be changed by setting `use_waning=True` when initializing a simulation.\n",
    "When `use_waning` is set to True, agents in the simulation are assigned an initial level of neutralizing antibodies after recovering from an infection, drawn from a distribution defined in the parameter dictionary.\n",
    "This level decays over time, leading to declines in the efficacy of protection against infection, symptoms, and severe symptoms.\n",
    "The following example creates simulations without waning immunity (the default), and compares it to simulations with different speeds of immunity waning."
   ]
  },
  {
   "cell_type": "code",
   "execution_count": null,
   "metadata": {},
   "outputs": [],
   "source": [
    "import numpy as np\n",
    "import sciris as sc\n",
    "import covasim as cv\n",
    "import pylab as pl\n",
    "cv.options.set(dpi=100, show=False, close=True, verbose=0) # Standard options for Jupyter notebook\n",
    "\n",
    "# Create sims with and without waning immunity\n",
    "sim_nowaning = cv.Sim(n_days=120, label='No waning immunity')\n",
    "sim_waning = cv.Sim(use_waning=True, n_days=120, label='Waning immunity')\n",
    "\n",
    "# Now create an alternative sim with faster decay for neutralizing antibodies\n",
    "sim_fasterwaning = cv.Sim(\n",
    "    label='Faster waning immunity',\n",
    "    n_days=120,\n",
    "    use_waning=True,\n",
    "    nab_decay=dict(form='nab_decay', decay_rate1=np.log(2)/30, decay_time1=250, decay_rate2=0.001)\n",
    ")\n",
    "\n",
    "\n",
    "# Create a multisim, run, and plot results\n",
    "msim = cv.MultiSim([sim_nowaning, sim_waning, sim_fasterwaning])\n",
    "msim.run()\n",
    "msim.plot()"
   ]
  },
  {
   "cell_type": "markdown",
   "metadata": {},
   "source": [
    "## Multi-variant modeling\n",
    "\n",
    "The next examples show how to introduce new variants into a simulation.\n",
    "These can either be known variants of concern, or custom new variants.\n",
    "New variants may have differing levels of transmissibility, symptomaticity, severity, and mortality.\n",
    "When introducing new variants, `use_waning` must be set to `True`.\n",
    "The model includes known information about the levels of cross-immunity between different variants.\n",
    "Cross-immunity can also be manually adjusted."
   ]
  },
  {
   "cell_type": "code",
   "execution_count": null,
   "metadata": {},
   "outputs": [],
   "source": [
    "# Define three new variants: B117, B1351, and a custom-defined variant\n",
    "b117    = cv.variant('b117', days=0, n_imports=10)\n",
    "b1351   = cv.variant('b1351', days=0, n_imports=10)\n",
    "custom  = cv.variant(label='3x more transmissible', variant={'rel_beta': 3.0}, days=7, n_imports=10)\n",
    "\n",
    "# Create the simulation\n",
    "sim = cv.Sim(use_waning=True, variants=[b117, b1351, custom], pop_infected=10, n_days=32)\n",
    "\n",
    "# Run and plot\n",
    "sim.run()\n",
    "sim.plot('variant')"
   ]
  },
  {
   "cell_type": "code",
   "execution_count": null,
   "metadata": {},
   "outputs": [],
   "source": []
  },
  {
   "cell_type": "markdown",
   "metadata": {},
   "source": [
    "## Advanced vaccination methods\n",
    "\n",
    "The intervention `cv.BaseVaccination` allows you to introduce a selection of known vaccines into the model, each of which is pre-populated with known parameters on their efficacy against different variants, their durations of protection, and the levels of protection that they afford against infection and disease progression. The prioritization of vaccines is implemented with derived classes that implement specific allocation algorithms. Covasim 3.0 comes with two such algorithms:\n",
    "\n",
    "- `cv.vaccinate_prob()` - specify a daily probability of vaccination for each person\n",
    "- `cv.vaccinate_num()` - specify a sequence of people to vaccinate, and the number of available doses each day\n",
    "\n",
    "When using any of these vaccination interventions, `use_waning` must be set to `True`.\n",
    "\n",
    "### Probability -based vaccination\n",
    "\n",
    "The intervention `cv.vaccinate_prob()` allows you specify the daily probability that each individual gets vaccinated. The following example illustrates how to use the `cv.vaccinate_prob()` intervention."
   ]
  },
  {
   "cell_type": "code",
   "execution_count": null,
   "metadata": {},
   "outputs": [],
   "source": [
    "# Create some base parameters\n",
    "pars = {\n",
    "    'beta': 0.015,\n",
    "    'n_days': 120,\n",
    "}\n",
    "\n",
    "# Define probability based vaccination\n",
    "pfizer = cv.vaccinate_prob(vaccine='pfizer', days=20)\n",
    "sim = cv.Sim(\n",
    "    use_waning=True,\n",
    "    pars=pars,\n",
    "    interventions=pfizer\n",
    ")\n",
    "sim.run()\n",
    "sim.plot()"
   ]
  },
  {
   "cell_type": "markdown",
   "metadata": {},
   "source": [
    "### Sequence-based vaccination\n",
    "\n",
    "To use `cv.vaccinate_num`, it is necessary to specify the vaccine prioritization - for example, this may involve defining priority groups like 1A, 1B etc. depending on the setting. The vaccine prioritization is specified as an ordered sequence of people to vaccinate, so in almost all cases, a function can be defined that takes in a `cv.People` instance, and returns an array of indices specifying the order in which people get vaccinated. This function could also incorporate steps such as randomizing the order of people within priority groups, or removing some people from the sequence to account for vaccine hesitancy and peak coverage not reaching 100%. A simple example of a prioritization function would be to simply sort by age in descending order i.e."
   ]
  },
  {
   "cell_type": "code",
   "execution_count": null,
   "metadata": {},
   "outputs": [],
   "source": [
    "def prioritize_by_age(people):\n",
    "    return np.argsort(-people.age)"
   ]
  },
  {
   "cell_type": "markdown",
   "metadata": {},
   "source": [
    "This function can be passed to `cv.vaccinate_num` where it will be evaluated during initialization, and therefore will run after the population has been generated. In cases where the `cv.People` have been generated offline and are being loaded instead of generated, it's possible to pass a pre-computed sequence of indices to `cv.vaccinate_num` rather than a prioritization function that returns the sequence. \n",
    "\n",
    "The example below also shows how to use a simple `Analyzer` to capture additional information about the vaccine state each timestep."
   ]
  },
  {
   "cell_type": "code",
   "execution_count": null,
   "metadata": {},
   "outputs": [],
   "source": [
    "# Record the number of doses each person has recieved each day so\n",
    "# that we can plot the rollout in this example. Without a custom \n",
    "# analyzer, only the total number of doses will be recorded\n",
    "n_doses = [] \n",
    "\n",
    "# Define sequence based vaccination\n",
    "pfizer = cv.vaccinate_num(vaccine='pfizer', sequence=prioritize_by_age, num_doses=100)\n",
    "sim = cv.Sim(\n",
    "    use_waning=True,\n",
    "    pars=pars,\n",
    "    interventions=pfizer,\n",
    "    analyzers=lambda sim: n_doses.append(sim.people.vaccinations.copy())\n",
    ")\n",
    "sim.run()\n",
    "\n",
    "pl.figure()\n",
    "n_doses = np.array(n_doses)\n",
    "fully_vaccinated = (n_doses == 2).sum(axis=1)\n",
    "first_dose = (n_doses == 1).sum(axis=1)\n",
    "pl.stackplot(sim.tvec, first_dose, fully_vaccinated)\n",
    "pl.legend(['First dose','Fully vaccinated'])"
   ]
  },
  {
   "cell_type": "markdown",
   "metadata": {},
   "source": [
    "Notice how second doses are prioritized, so after 21 days, there is a backlog of people requiring second doses, so the first doses are suspended until all of the second doses have been delivered. In reality, the pace of vaccination typically increases following the commencement of vaccination, so capacity increases over time. The `doses_per_day` argument allows this increase to be captured. There are several ways to specify a time-varying dose, including a date-based dictionary to facilitate calibration when the number of doses each day is known. A simple option is to use a function that returns the number of doses to distribute based on the `cv.Sim` - for example:"
   ]
  },
  {
   "cell_type": "code",
   "execution_count": null,
   "metadata": {},
   "outputs": [],
   "source": [
    "def num_doses(sim):\n",
    "    if sim.t < 50:\n",
    "        return sim.t*10\n",
    "    else:\n",
    "        return 500"
   ]
  },
  {
   "cell_type": "markdown",
   "metadata": {},
   "source": [
    "This function corresponds to the vaccination rate increasing linearly for the first 50 days, before then stabilizing. The function can be passed directly into the `cv.vaccinate_num` intervention:"
   ]
  },
  {
   "cell_type": "code",
   "execution_count": null,
   "metadata": {},
   "outputs": [],
   "source": [
    "n_doses = [] \n",
    "pfizer = cv.vaccinate_num(vaccine='pfizer', sequence=prioritize_by_age, num_doses=num_doses)\n",
    "sim = cv.Sim(\n",
    "    use_waning=True,\n",
    "    pars=pars,\n",
    "    interventions=pfizer,\n",
    "    analyzers=lambda sim: n_doses.append(sim.people.vaccinations.copy())\n",
    ")\n",
    "sim.run()\n",
    "\n",
    "pl.figure()\n",
    "n_doses = np.array(n_doses)\n",
    "fully_vaccinated = (n_doses == 2).sum(axis=1)\n",
    "first_dose = (n_doses == 1).sum(axis=1)\n",
    "pl.stackplot(sim.tvec, first_dose, fully_vaccinated)\n",
    "pl.legend(['First dose','Fully vaccinated']);"
   ]
  },
  {
   "cell_type": "markdown",
   "metadata": {},
   "source": [
    "Now the increase in capacity means that when second doses are due, there are sufficient additional doses available to continue distributing first doses. Further customization, particularly to customize second dose prioritization depending on the specific policies implemented in a particular setting, can be readily achieved by implementing a new class deriving from `cv.BaseVaccination` in exactly the same way `cv.vaccinate_prob` and `cv.vaccinate_num` are implemented. "
   ]
  }
 ],
 "metadata": {
  "kernelspec": {
   "display_name": "Python 3",
   "language": "python",
   "name": "python3"
  },
  "language_info": {
   "codemirror_mode": {
    "name": "ipython",
    "version": 3
   },
   "file_extension": ".py",
   "mimetype": "text/x-python",
   "name": "python",
   "nbconvert_exporter": "python",
   "pygments_lexer": "ipython3",
   "version": "3.8.8"
  },
  "toc": {
   "base_numbering": 1,
   "nav_menu": {},
   "number_sections": true,
   "sideBar": true,
   "skip_h1_title": false,
   "title_cell": "Table of Contents",
   "title_sidebar": "Contents",
   "toc_cell": false,
   "toc_position": {},
   "toc_section_display": true,
   "toc_window_display": false
  }
 },
 "nbformat": 4,
 "nbformat_minor": 4
}
