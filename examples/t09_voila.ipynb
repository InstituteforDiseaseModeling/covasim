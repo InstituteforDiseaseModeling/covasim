{
 "cells": [
  {
   "cell_type": "code",
   "execution_count": null,
   "id": "7a691673-f78f-41e9-b490-4155d960b0d2",
   "metadata": {},
   "outputs": [],
   "source": [
    "import numpy as np\n",
    "import covasim as cv\n",
    "import ipywidgets as widgets\n",
    "\n",
    "# Create the button and output area\n",
    "button = widgets.Button(description='Run')\n",
    "output = widgets.Output()\n",
    "\n",
    "@output.capture()\n",
    "def run():\n",
    "    ''' Stochastically run a parallelized multisim '''\n",
    "    sim = cv.Sim(verbose=0, pop_size=20e3, n_days=100, rand_seed=np.random.randint(99))\n",
    "    msim = cv.MultiSim(sim)\n",
    "    msim.run(n_runs=4)\n",
    "    return msim.plot()\n",
    "\n",
    "def click(b):\n",
    "    ''' Rerun on click '''\n",
    "    output.clear_output(wait=True)\n",
    "    run()\n",
    "\n",
    "# Create and show the app\n",
    "button.on_click(click)\n",
    "app = widgets.VBox([button, output])\n",
    "display(app)"
   ]
  }
 ],
 "metadata": {
  "kernelspec": {
   "display_name": "Python 3 (ipykernel)",
   "language": "python",
   "name": "python3"
  },
  "language_info": {
   "codemirror_mode": {
    "name": "ipython",
    "version": 3
   },
   "file_extension": ".py",
   "mimetype": "text/x-python",
   "name": "python",
   "nbconvert_exporter": "python",
   "pygments_lexer": "ipython3",
   "version": "3.9.7"
  }
 },
 "nbformat": 4,
 "nbformat_minor": 5
}
